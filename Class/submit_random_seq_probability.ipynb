{
 "cells": [
  {
   "cell_type": "code",
   "execution_count": 51,
   "metadata": {},
   "outputs": [],
   "source": [
    "#ランダムに生成された配列に対して目的の配列が出現する確率を求める"
   ]
  },
  {
   "cell_type": "code",
   "execution_count": 52,
   "metadata": {},
   "outputs": [],
   "source": [
    "import random"
   ]
  },
  {
   "cell_type": "code",
   "execution_count": 53,
   "metadata": {},
   "outputs": [],
   "source": [
    "def generate_seq(length):\n",
    "    sequence=''\n",
    "    DNA=[\"A\",\"T\",\"G\",\"C\"]\n",
    "    for i in range(length):\n",
    "        sequence+=random.choice(DNA)\n",
    "    return sequence"
   ]
  },
  {
   "cell_type": "code",
   "execution_count": 54,
   "metadata": {},
   "outputs": [],
   "source": [
    "def search(ref,sequence):\n",
    "    count=0\n",
    "    for i in range(len(ref)-len(sequence)+1):\n",
    "        compare_seq=ref[i:i+len(sequence)]\n",
    "        if(compare_seq==sequence):\n",
    "            count=1\n",
    "            break\n",
    "        \n",
    "    return count"
   ]
  },
  {
   "cell_type": "code",
   "execution_count": 59,
   "metadata": {},
   "outputs": [],
   "source": [
    "def probability(search_seq,genome_length):\n",
    "    loop=1000\n",
    "    match_count=0\n",
    "    for i in range(1,loop):\n",
    "        ref=generate_seq(genome_length)\n",
    "        match_count+=search(ref,search_seq)\n",
    "        #if(i%10==0):\n",
    "           # print(i,\"times\")\n",
    "        print(match_count/i)\n",
    "   "
   ]
  },
  {
   "cell_type": "code",
   "execution_count": null,
   "metadata": {},
   "outputs": [],
   "source": [
    "search_seq=\"ACGCGCGA\"\n",
    "genome_length=4873567\n",
    "probability(search_seq,genome_length)"
   ]
  },
  {
   "cell_type": "code",
   "execution_count": null,
   "metadata": {},
   "outputs": [],
   "source": []
  }
 ],
 "metadata": {
  "kernelspec": {
   "display_name": "Python 3",
   "language": "python",
   "name": "python3"
  },
  "language_info": {
   "codemirror_mode": {
    "name": "ipython",
    "version": 3
   },
   "file_extension": ".py",
   "mimetype": "text/x-python",
   "name": "python",
   "nbconvert_exporter": "python",
   "pygments_lexer": "ipython3",
   "version": "3.7.1"
  }
 },
 "nbformat": 4,
 "nbformat_minor": 2
}
