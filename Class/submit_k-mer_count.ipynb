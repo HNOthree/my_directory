{
 "cells": [
  {
   "cell_type": "code",
   "execution_count": 1,
   "metadata": {},
   "outputs": [],
   "source": [
    "# SeqIO.parse(...)として呼び出せるように書いてください\n",
    "\"Bio(Biopython)からSeqIOモジュールをインポート\" \n",
    "from Bio import SeqIO\n",
    "# pd.DataFrame(...)が呼び出せるように書いてください\n",
    "\"pandasをpdと言う名前でインポート\" \n",
    "import pandas as pd\n",
    "# plt.figure()を実行できるように書いてください\n",
    "\"matplotlibのpyplotモジュールをpltという名前でインポート\"\n",
    "import matplotlib.pyplot as plt\n",
    "import copy"
   ]
  },
  {
   "cell_type": "code",
   "execution_count": 18,
   "metadata": {},
   "outputs": [],
   "source": [
    "def dictionary_make(length):\n",
    "    dictionary={}\n",
    "    DNA=[\"A\",\"T\",\"G\",\"C\"]\n",
    "    kmer=[\"A\",\"T\",\"G\",\"C\"]\n",
    "    while (len(kmer[0])<length):\n",
    "        new_kmer=[]\n",
    "        for seq in kmer:\n",
    "            for base in DNA:\n",
    "                new_kmer.append(seq+base)\n",
    "        kmer=new_kmer\n",
    "    for sequence in kmer: \n",
    "        dictionary[sequence]=0\n",
    "    return dictionary"
   ]
  },
  {
   "cell_type": "code",
   "execution_count": 21,
   "metadata": {},
   "outputs": [],
   "source": [
    "def get_seq():\n",
    "    path_to_genbank_file = (\"/Users/miyakesho/Google_Drive/master/Class/生物情報実験法/python/task1/GCF_000231385.2_ASM23138v3_genomic.gbff\") \n",
    "    records = SeqIO.index(path_to_genbank_file, 'gb')\n",
    "    record = records[list(records.keys())[0]]\n",
    "    bacteria_sequence=record.seq\n",
    "    \n",
    "    return bacteria_sequence"
   ]
  },
  {
   "cell_type": "code",
   "execution_count": 70,
   "metadata": {},
   "outputs": [],
   "source": [
    "def kmer_count(kmer_dict,length,DNA):\n",
    "    for i in range(0,len(DNA)-length):\n",
    "        seq=DNA[i:i+length]\n",
    "        kmer_dict[seq]+=1\n",
    "    return kmer_dict"
   ]
  },
  {
   "cell_type": "code",
   "execution_count": 61,
   "metadata": {},
   "outputs": [],
   "source": [
    "def dict_to_df(dictionary):\n",
    "    data=[]\n",
    "    for i,j in dictionary.items():\n",
    "        data.append([i,j])\n",
    "    data=pd.DataFrame(data,columns=[\"kmer\",\"count\"])\n",
    "    return data"
   ]
  },
  {
   "cell_type": "code",
   "execution_count": 71,
   "metadata": {},
   "outputs": [],
   "source": [
    "def main():\n",
    "    bacteria_sequence=get_seq()\n",
    "    length=3\n",
    "    max_kmer=6\n",
    "    while(length<=max_kmer):\n",
    "        kmer_dict=dictionary_make(length)\n",
    "        kmer_dict=kmer_count(kmer_dict,length,bacteria_sequence)\n",
    "        kmer_df=dict_to_df(kmer_dict)\n",
    "        kmer_df.to_csv(\"{}mer_count.csv\".format(length),index=False)\n",
    "        length+=1"
   ]
  },
  {
   "cell_type": "code",
   "execution_count": 73,
   "metadata": {},
   "outputs": [],
   "source": [
    "main()"
   ]
  },
  {
   "cell_type": "code",
   "execution_count": null,
   "metadata": {},
   "outputs": [],
   "source": []
  }
 ],
 "metadata": {
  "kernelspec": {
   "display_name": "Python 3",
   "language": "python",
   "name": "python3"
  },
  "language_info": {
   "codemirror_mode": {
    "name": "ipython",
    "version": 3
   },
   "file_extension": ".py",
   "mimetype": "text/x-python",
   "name": "python",
   "nbconvert_exporter": "python",
   "pygments_lexer": "ipython3",
   "version": "3.7.1"
  }
 },
 "nbformat": 4,
 "nbformat_minor": 2
}
