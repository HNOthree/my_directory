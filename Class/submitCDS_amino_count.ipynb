{
 "cells": [
  {
   "cell_type": "code",
   "execution_count": 1,
   "metadata": {},
   "outputs": [],
   "source": [
    "#CDSにおいてアミノ酸の並びをk個ずつカウント"
   ]
  },
  {
   "cell_type": "code",
   "execution_count": 2,
   "metadata": {},
   "outputs": [],
   "source": [
    "# SeqIO.parse(...)として呼び出せるように書いてください\n",
    "\"Bio(Biopython)からSeqIOモジュールをインポート\" \n",
    "from Bio import SeqIO\n",
    "# pd.DataFrame(...)が呼び出せるように書いてください\n",
    "\"pandasをpdと言う名前でインポート\" \n",
    "import pandas as pd\n",
    "# plt.figure()を実行できるように書いてください\n",
    "\"matplotlibのpyplotモジュールをpltという名前でインポート\"\n",
    "import matplotlib.pyplot as plt\n",
    "import copy\n",
    "import math\n",
    "import sys"
   ]
  },
  {
   "cell_type": "code",
   "execution_count": 3,
   "metadata": {},
   "outputs": [],
   "source": [
    "path_to_genbank_file = (\"/Users/miyakesho/Google_Drive/master/Class/生物情報実験法/python/task1/GCF_000231385.2_ASM23138v3_genomic.gbff\") # 自分のファイルに書き換えてください\n",
    "records = SeqIO.index(path_to_genbank_file, 'gb')"
   ]
  },
  {
   "cell_type": "code",
   "execution_count": 10,
   "metadata": {},
   "outputs": [],
   "source": [
    "k_amino=1\n",
    "amino_dict={}"
   ]
  },
  {
   "cell_type": "code",
   "execution_count": 11,
   "metadata": {},
   "outputs": [],
   "source": [
    "count=0\n",
    "for record_id, record in records.items():\n",
    "    for feature in record.features:\n",
    "        if feature.type==\"CDS\":\n",
    "            #print(feature)\n",
    "            try:\n",
    "                peptides=feature.qualifiers[\"translation\"]\n",
    "                peptides=peptides[0]\n",
    "                #print(peptides)\n",
    "                for j in range(0,len(peptides)-k_amino+1,k_amino):\n",
    "                \n",
    "                    letter=\"\"\n",
    "                    for k in range(k_amino):\n",
    "                        letter+=peptides[j+k]\n",
    "                    #print(j,letter)\n",
    "                    if letter not in amino_dict:\n",
    "                        amino_dict[letter]=1\n",
    "                    else:\n",
    "                        amino_dict[letter]+=1\n",
    "                    count+=1\n",
    "            except KeyError:\n",
    "                continue\n",
    "    \n",
    "  "
   ]
  },
  {
   "cell_type": "code",
   "execution_count": 12,
   "metadata": {},
   "outputs": [
    {
     "data": {
      "text/plain": [
       "[('U', 7),\n",
       " ('W', 14002),\n",
       " ('C', 14529),\n",
       " ('H', 23452),\n",
       " ('M', 34844),\n",
       " ('Y', 43588),\n",
       " ('Q', 50260),\n",
       " ('P', 51323),\n",
       " ('F', 54583),\n",
       " ('N', 56486),\n",
       " ('R', 60584),\n",
       " ('D', 65279),\n",
       " ('T', 70492),\n",
       " ('K', 83156),\n",
       " ('S', 83468),\n",
       " ('E', 92120),\n",
       " ('V', 94447),\n",
       " ('G', 98282),\n",
       " ('A', 100633),\n",
       " ('I', 101254),\n",
       " ('L', 140245)]"
      ]
     },
     "execution_count": 12,
     "metadata": {},
     "output_type": "execute_result"
    }
   ],
   "source": [
    "amino_dict\n",
    "sorted_amino_dict= sorted(amino_dict.items(), key=lambda x:x[1])\n",
    "sorted_amino_dict"
   ]
  },
  {
   "cell_type": "code",
   "execution_count": 15,
   "metadata": {},
   "outputs": [
    {
     "data": {
      "text/plain": [
       "63477.80952380953"
      ]
     },
     "execution_count": 15,
     "metadata": {},
     "output_type": "execute_result"
    }
   ],
   "source": [
    "count/(21**k_amino)"
   ]
  },
  {
   "cell_type": "code",
   "execution_count": 16,
   "metadata": {},
   "outputs": [
    {
     "data": {
      "text/plain": [
       "3022.714285714286"
      ]
     },
     "execution_count": 16,
     "metadata": {},
     "output_type": "execute_result"
    }
   ],
   "source": [
    "63477/21"
   ]
  },
  {
   "cell_type": "code",
   "execution_count": null,
   "metadata": {},
   "outputs": [],
   "source": []
  }
 ],
 "metadata": {
  "kernelspec": {
   "display_name": "Python 3",
   "language": "python",
   "name": "python3"
  },
  "language_info": {
   "codemirror_mode": {
    "name": "ipython",
    "version": 3
   },
   "file_extension": ".py",
   "mimetype": "text/x-python",
   "name": "python",
   "nbconvert_exporter": "python",
   "pygments_lexer": "ipython3",
   "version": "3.7.1"
  }
 },
 "nbformat": 4,
 "nbformat_minor": 2
}
