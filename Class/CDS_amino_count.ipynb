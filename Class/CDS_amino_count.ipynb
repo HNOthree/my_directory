{
 "cells": [
  {
   "cell_type": "code",
   "execution_count": 1,
   "metadata": {},
   "outputs": [],
   "source": [
    "#CDSにおいてアミノ酸の並びをk個ずつカウント"
   ]
  },
  {
   "cell_type": "code",
   "execution_count": 2,
   "metadata": {},
   "outputs": [],
   "source": [
    "# SeqIO.parse(...)として呼び出せるように書いてください\n",
    "\"Bio(Biopython)からSeqIOモジュールをインポート\" \n",
    "from Bio import SeqIO\n",
    "# pd.DataFrame(...)が呼び出せるように書いてください\n",
    "\"pandasをpdと言う名前でインポート\" \n",
    "import pandas as pd\n",
    "# plt.figure()を実行できるように書いてください\n",
    "\"matplotlibのpyplotモジュールをpltという名前でインポート\"\n",
    "import matplotlib.pyplot as plt\n",
    "import copy\n",
    "import math\n",
    "import sys"
   ]
  },
  {
   "cell_type": "code",
   "execution_count": 3,
   "metadata": {},
   "outputs": [],
   "source": [
    "path_to_genbank_file = (\"/Users/miyakesho/Google_Drive/master/Class/生物情報実験法/python/task1/GCF_000231385.2_ASM23138v3_genomic.gbff\") # 自分のファイルに書き換えてください\n",
    "records = SeqIO.index(path_to_genbank_file, 'gb')"
   ]
  },
  {
   "cell_type": "code",
   "execution_count": 90,
   "metadata": {},
   "outputs": [],
   "source": [
    "k_amino=1\n",
    "amino_dict={}"
   ]
  },
  {
   "cell_type": "code",
   "execution_count": 91,
   "metadata": {},
   "outputs": [],
   "source": [
    "count=0\n",
    "for record_id, record in records.items():\n",
    "    for feature in record.features:\n",
    "        if feature.type==\"CDS\":\n",
    "            #print(feature)\n",
    "            try:\n",
    "                peptides=feature.qualifiers[\"translation\"]\n",
    "                peptides=peptides[0]\n",
    "                #print(peptides)\n",
    "                for j in range(0,len(peptides)-k_amino+1,k_amino):\n",
    "                \n",
    "                    letter=\"\"\n",
    "                    for k in range(k_amino):\n",
    "                        letter+=peptides[j+k]\n",
    "                    #print(j,letter)\n",
    "                    if letter not in amino_dict:\n",
    "                        amino_dict[letter]=1\n",
    "                    else:\n",
    "                        amino_dict[letter]+=1\n",
    "                    count+=1\n",
    "            except KeyError:\n",
    "                continue\n",
    "    \n",
    "  "
   ]
  },
  {
   "cell_type": "code",
   "execution_count": 92,
   "metadata": {},
   "outputs": [
    {
     "data": {
      "text/plain": [
       "[('U', 7),\n",
       " ('W', 14002),\n",
       " ('C', 14529),\n",
       " ('H', 23452),\n",
       " ('M', 34844),\n",
       " ('Y', 43588),\n",
       " ('Q', 50260),\n",
       " ('P', 51323),\n",
       " ('F', 54583),\n",
       " ('N', 56486),\n",
       " ('R', 60584),\n",
       " ('D', 65279),\n",
       " ('T', 70492),\n",
       " ('K', 83156),\n",
       " ('S', 83468),\n",
       " ('E', 92120),\n",
       " ('V', 94447),\n",
       " ('G', 98282),\n",
       " ('A', 100633),\n",
       " ('I', 101254),\n",
       " ('L', 140245)]"
      ]
     },
     "execution_count": 92,
     "metadata": {},
     "output_type": "execute_result"
    }
   ],
   "source": [
    "amino_dict\n",
    "sorted_amino_dict= sorted(amino_dict.items(), key=lambda x:x[1])\n",
    "sorted_amino_dict"
   ]
  },
  {
   "cell_type": "code",
   "execution_count": 87,
   "metadata": {},
   "outputs": [
    {
     "data": {
      "text/plain": [
       "1663.61"
      ]
     },
     "execution_count": 87,
     "metadata": {},
     "output_type": "execute_result"
    }
   ],
   "source": [
    "count/20**k_amino"
   ]
  },
  {
   "cell_type": "code",
   "execution_count": 83,
   "metadata": {},
   "outputs": [
    {
     "data": {
      "text/plain": [
       "700.1"
      ]
     },
     "execution_count": 83,
     "metadata": {},
     "output_type": "execute_result"
    }
   ],
   "source": [
    " 14002/20"
   ]
  },
  {
   "cell_type": "code",
   "execution_count": 18,
   "metadata": {},
   "outputs": [],
   "source": [
    "Hydrophobicity=[\"G\",\"A\",\"V\",\"L\",\"I\",\"M\",\"P\",\"F\",\"W\"]\n",
    "Polarity_acid=[\"R\",\"H\",\"K\"]\n",
    "Polarity_basic=[\"D\",\"E\",\"Y\",\"C\"]\n",
    "Polarity_non_elec=[\"S\",\"N\",\"T\",\"Q\"]"
   ]
  },
  {
   "cell_type": "code",
   "execution_count": 22,
   "metadata": {},
   "outputs": [
    {
     "name": "stdout",
     "output_type": "stream",
     "text": [
      "G 98282\n",
      "A 100633\n",
      "V 94447\n",
      "L 140245\n",
      "I 101254\n",
      "M 34844\n",
      "P 51323\n",
      "F 54583\n",
      "W 14002\n",
      "R 60584\n",
      "H 23452\n",
      "K 83156\n",
      "D 65279\n",
      "E 92120\n",
      "Y 43588\n",
      "C 14529\n",
      "S 83468\n",
      "N 56486\n",
      "T 70492\n",
      "Q 50260\n",
      "689613 167192 215516 260706\n"
     ]
    }
   ],
   "source": [
    "Hydrophobicity_count=0\n",
    "Polarity_acid_count=0\n",
    "Polarity_basic_count=0\n",
    "Polarity_non_elec_count=0\n",
    "\n",
    "for i in Hydrophobicity:\n",
    "    print(i,amino_dict[i])\n",
    "    Hydrophobicity_count+=amino_dict[i]\n",
    "    \n",
    "for i in Polarity_acid:\n",
    "    print(i,amino_dict[i])\n",
    "    Polarity_acid_count+=amino_dict[i]\n",
    "\n",
    "for i in Polarity_basic:\n",
    "    print(i,amino_dict[i])\n",
    "    Polarity_basic_count+=amino_dict[i]\n",
    "\n",
    "for i in Polarity_non_elec:\n",
    "    print(i,amino_dict[i])\n",
    "    Polarity_non_elec_count+=amino_dict[i]\n",
    "\n",
    "print(Hydrophobicity_count,Polarity_acid_count,Polarity_basic_count,Polarity_non_elec_count)"
   ]
  },
  {
   "cell_type": "code",
   "execution_count": null,
   "metadata": {},
   "outputs": [],
   "source": []
  }
 ],
 "metadata": {
  "kernelspec": {
   "display_name": "Python 3",
   "language": "python",
   "name": "python3"
  },
  "language_info": {
   "codemirror_mode": {
    "name": "ipython",
    "version": 3
   },
   "file_extension": ".py",
   "mimetype": "text/x-python",
   "name": "python",
   "nbconvert_exporter": "python",
   "pygments_lexer": "ipython3",
   "version": "3.7.1"
  }
 },
 "nbformat": 4,
 "nbformat_minor": 2
}
