{
 "cells": [
  {
   "cell_type": "code",
   "execution_count": null,
   "metadata": {},
   "outputs": [],
   "source": [
    "#ゲノム内に現れないkmerの探索"
   ]
  },
  {
   "cell_type": "code",
   "execution_count": 21,
   "metadata": {},
   "outputs": [],
   "source": [
    "import pandas as pd"
   ]
  },
  {
   "cell_type": "code",
   "execution_count": 46,
   "metadata": {},
   "outputs": [],
   "source": [
    "def null_count(k):\n",
    "    kmer_list=pd.read_csv(\"kmer/{}mer_count.csv\".format(k))\n",
    "    bool_list=kmer_list[\"count\"]==0\n",
    "    nullomer=kmer_list[bool_list]\n",
    "    nullomer.sort_values(by=[\"count\"],ascending=True)\n",
    "    print(len(nullomer),\"hit\")\n",
    "    if (len(nullomer)>0 and len(nullomer)<100):\n",
    "        print(nullomer)"
   ]
  },
  {
   "cell_type": "code",
   "execution_count": 47,
   "metadata": {},
   "outputs": [
    {
     "name": "stdout",
     "output_type": "stream",
     "text": [
      "3 mer\n",
      "64 kinds\n",
      "0 hit\n",
      "\n",
      "4 mer\n",
      "256 kinds\n",
      "0 hit\n",
      "\n",
      "5 mer\n",
      "1024 kinds\n",
      "0 hit\n",
      "\n",
      "6 mer\n",
      "4096 kinds\n",
      "0 hit\n",
      "\n",
      "7 mer\n",
      "16384 kinds\n",
      "0 hit\n",
      "\n",
      "8 mer\n",
      "65536 kinds\n",
      "7 hit\n",
      "           kmer  count\n",
      "15288  ACGCGCGA      0\n",
      "47803  GCGGGCGC      0\n",
      "48059  GCGCGCGC      0\n",
      "52974  CACGCGCG      0\n",
      "61158  CGCGCGTG      0\n",
      "61164  CGCGCGCA      0\n",
      "61166  CGCGCGCG      0\n",
      "\n",
      "9 mer\n",
      "262144 kinds\n",
      "1364 hit\n",
      "\n",
      "10 mer\n",
      "1048576 kinds\n",
      "104904 hit\n",
      "\n",
      "11 mer\n",
      "4194304 kinds\n",
      "1823256 hit\n",
      "\n",
      "12 mer\n",
      "16777216 kinds\n",
      "13028513 hit\n",
      "\n"
     ]
    }
   ],
   "source": [
    "for i in range(3,13):\n",
    "    print(i,\"mer\")\n",
    "    print(4**i,\"kinds\")\n",
    "    null_count(i)\n",
    "    print(\"\")"
   ]
  },
  {
   "cell_type": "code",
   "execution_count": 44,
   "metadata": {},
   "outputs": [
    {
     "name": "stdout",
     "output_type": "stream",
     "text": [
      "        kmer  count\n",
      "3822  CGCGCG     75\n"
     ]
    }
   ],
   "source": [
    "kmer_list=pd.read_csv(\"kmer/{}mer_count.csv\".format(6))\n",
    "print(kmer_list.query('kmer == \"CGCGCG\"'))"
   ]
  },
  {
   "cell_type": "code",
   "execution_count": null,
   "metadata": {},
   "outputs": [],
   "source": []
  }
 ],
 "metadata": {
  "kernelspec": {
   "display_name": "Python 3",
   "language": "python",
   "name": "python3"
  },
  "language_info": {
   "codemirror_mode": {
    "name": "ipython",
    "version": 3
   },
   "file_extension": ".py",
   "mimetype": "text/x-python",
   "name": "python",
   "nbconvert_exporter": "python",
   "pygments_lexer": "ipython3",
   "version": "3.7.1"
  }
 },
 "nbformat": 4,
 "nbformat_minor": 2
}
