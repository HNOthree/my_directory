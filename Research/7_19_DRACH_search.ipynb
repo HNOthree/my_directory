{
 "cells": [
  {
   "cell_type": "code",
   "execution_count": 1,
   "metadata": {},
   "outputs": [],
   "source": [
    "#DRACHモチーフの個数カウント"
   ]
  },
  {
   "cell_type": "code",
   "execution_count": 13,
   "metadata": {},
   "outputs": [],
   "source": [
    "def DRACH_search(seq):\n",
    "    D=[\"A\",\"G\",\"U\"]\n",
    "    R=[\"A\",\"G\"]\n",
    "    H=[\"A\",\"C\",\"U\"]\n",
    "    count=0\n",
    "    if(seq[0] in D ):\n",
    "        count+=1\n",
    "    if(seq[1] in R ):\n",
    "        count+=1\n",
    "    if(seq[2]==\"A\"):\n",
    "        count+=10\n",
    "    if(seq[3] ==\"C\"):\n",
    "        count+=1\n",
    "    if(seq[4] in H):\n",
    "        count+=1\n",
    "    return count\n",
    "    \n",
    "    "
   ]
  },
  {
   "cell_type": "code",
   "execution_count": 41,
   "metadata": {},
   "outputs": [],
   "source": [
    "miR1_5p=\"ACAUACUUCUUUAUAUGCCCAU\"\n",
    "miR1_3p=\"UGGAAUGUAAAGAAGUAUGUAU\"\n",
    "miR1=\"UGGGAAACAUACUUCUUUAUAUGCCCAUAUGGACCUGCUAAGCUAUGGAAUGUAAAGAAGUAUGUAUCUCA\"\n",
    "miR155_5p=\"UUAAUGCUAAUCGUGAUAGGGGUU\"\n",
    "miR155_3p=\"CUCCUACAUAUUAGCAUUAACA\"\n",
    "miR155=\"CUGUUAAUGCUAAUCGUGAUAGGGGUUUUUGCCUCCAACUGACUCCUACAUAUUAGCAUUAACAG\""
   ]
  },
  {
   "cell_type": "code",
   "execution_count": 46,
   "metadata": {},
   "outputs": [],
   "source": [
    "def count(miRNA):\n",
    "    print(\"\")\n",
    "    for i in range(0,len(miRNA)-4):\n",
    "        seq=miRNA[i:i+5]\n",
    "        flag=DRACH_search(seq)\n",
    "        if(flag==14):\n",
    "            print(miRNA)\n",
    "            print(i,seq)\n",
    "            print(\"DRACH\")\n",
    "        else:\n",
    "            continue"
   ]
  },
  {
   "cell_type": "code",
   "execution_count": 47,
   "metadata": {},
   "outputs": [
    {
     "name": "stdout",
     "output_type": "stream",
     "text": [
      "\n",
      "\n",
      "\n",
      "UGGGAAACAUACUUCUUUAUAUGCCCAUAUGGACCUGCUAAGCUAUGGAAUGUAAAGAAGUAUGUAUCUCA\n",
      "4 AAACA\n",
      "DRACH\n",
      "UGGGAAACAUACUUCUUUAUAUGCCCAUAUGGACCUGCUAAGCUAUGGAAUGUAAAGAAGUAUGUAUCUCA\n",
      "30 GGACC\n",
      "DRACH\n",
      "\n",
      "\n",
      "CUCCUACAUAUUAGCAUUAACA\n",
      "17 UAACA\n",
      "DRACH\n",
      "\n",
      "CUGUUAAUGCUAAUCGUGAUAGGGGUUUUUGCCUCCAACUGACUCCUACAUAUUAGCAUUAACAG\n",
      "39 UGACU\n",
      "DRACH\n",
      "CUGUUAAUGCUAAUCGUGAUAGGGGUUUUUGCCUCCAACUGACUCCUACAUAUUAGCAUUAACAG\n",
      "59 UAACA\n",
      "DRACH\n"
     ]
    }
   ],
   "source": [
    "count(miR1_5p)\n",
    "count(miR1_3p)\n",
    "count(miR1)\n",
    "count(miR155_5p)\n",
    "count(miR155_3p)\n",
    "count(miR155)"
   ]
  },
  {
   "cell_type": "code",
   "execution_count": null,
   "metadata": {},
   "outputs": [],
   "source": []
  }
 ],
 "metadata": {
  "kernelspec": {
   "display_name": "Python 3",
   "language": "python",
   "name": "python3"
  },
  "language_info": {
   "codemirror_mode": {
    "name": "ipython",
    "version": 3
   },
   "file_extension": ".py",
   "mimetype": "text/x-python",
   "name": "python",
   "nbconvert_exporter": "python",
   "pygments_lexer": "ipython3",
   "version": "3.7.1"
  }
 },
 "nbformat": 4,
 "nbformat_minor": 2
}
