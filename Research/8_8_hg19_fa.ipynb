{
 "cells": [
  {
   "cell_type": "code",
   "execution_count": 1,
   "metadata": {},
   "outputs": [],
   "source": [
    "#hg19のファイルを開く\n",
    "#大文字に変換"
   ]
  },
  {
   "cell_type": "code",
   "execution_count": 35,
   "metadata": {},
   "outputs": [
    {
     "name": "stdout",
     "output_type": "stream",
     "text": [
      "chr1.txt\n",
      "chr2.txt\n",
      "chr3.txt\n",
      "chr4.txt\n",
      "chr5.txt\n",
      "chr6.txt\n",
      "chr7.txt\n",
      "chrX.txt\n",
      "chr8.txt\n",
      "chr9.txt\n",
      "chr10.txt\n",
      "chr11.txt\n",
      "chr12.txt\n",
      "chr13.txt\n",
      "chr14.txt\n",
      "chr15.txt\n",
      "chr16.txt\n",
      "chr17.txt\n",
      "chr18.txt\n",
      "chr20.txt\n",
      "chrY.txt\n",
      "chr19.txt\n",
      "chr22.txt\n",
      "chr21.txt\n",
      "chr6_ssto_hap7.txt\n",
      "chr6_mcf_hap5.txt\n",
      "chr6_cox_hap2.txt\n",
      "chr6_mann_hap4.txt\n",
      "chr6_apd_hap1.txt\n",
      "chr6_qbl_hap6.txt\n",
      "chr6_dbb_hap3.txt\n",
      "chr17_ctg5_hap1.txt\n",
      "chr4_ctg9_hap1.txt\n",
      "chr1_gl000192_random.txt\n",
      "chrUn_gl000225.txt\n",
      "chr4_gl000194_random.txt\n",
      "chr4_gl000193_random.txt\n",
      "chr9_gl000200_random.txt\n",
      "chrUn_gl000222.txt\n",
      "chrUn_gl000212.txt\n",
      "chr7_gl000195_random.txt\n",
      "chrUn_gl000223.txt\n",
      "chrUn_gl000224.txt\n",
      "chrUn_gl000219.txt\n",
      "chr17_gl000205_random.txt\n",
      "chrUn_gl000215.txt\n",
      "chrUn_gl000216.txt\n",
      "chrUn_gl000217.txt\n",
      "chr9_gl000199_random.txt\n",
      "chrUn_gl000211.txt\n",
      "chrUn_gl000213.txt\n",
      "chrUn_gl000220.txt\n",
      "chrUn_gl000218.txt\n",
      "chr19_gl000209_random.txt\n",
      "chrUn_gl000221.txt\n",
      "chrUn_gl000214.txt\n",
      "chrUn_gl000228.txt\n",
      "chrUn_gl000227.txt\n",
      "chr1_gl000191_random.txt\n",
      "chr19_gl000208_random.txt\n",
      "chr9_gl000198_random.txt\n",
      "chr17_gl000204_random.txt\n",
      "chrUn_gl000233.txt\n",
      "chrUn_gl000237.txt\n",
      "chrUn_gl000230.txt\n",
      "chrUn_gl000242.txt\n",
      "chrUn_gl000243.txt\n",
      "chrUn_gl000241.txt\n",
      "chrUn_gl000236.txt\n",
      "chrUn_gl000240.txt\n",
      "chr17_gl000206_random.txt\n",
      "chrUn_gl000232.txt\n",
      "chrUn_gl000234.txt\n",
      "chr11_gl000202_random.txt\n",
      "chrUn_gl000238.txt\n",
      "chrUn_gl000244.txt\n",
      "chrUn_gl000248.txt\n",
      "chr8_gl000196_random.txt\n",
      "chrUn_gl000249.txt\n",
      "chrUn_gl000246.txt\n",
      "chr17_gl000203_random.txt\n",
      "chr8_gl000197_random.txt\n",
      "chrUn_gl000245.txt\n",
      "chrUn_gl000247.txt\n",
      "chr9_gl000201_random.txt\n",
      "chrUn_gl000235.txt\n",
      "chrUn_gl000239.txt\n",
      "chr21_gl000210_random.txt\n",
      "chrUn_gl000231.txt\n",
      "chrUn_gl000229.txt\n",
      "chrM.txt\n",
      "chrUn_gl000226.txt\n",
      "chr18_gl000207_random.txt\n"
     ]
    }
   ],
   "source": [
    "# ファイルをオープンする\n",
    "test_data = open(\"/Users/miyakesho/Downloads/hg19.fa\", \"r\")\n",
    "file_name=\"sample.txt\"\n",
    "sequence=\"\"\n",
    "for i in test_data:\n",
    "    if(\"chr\" in i):\n",
    "        with open(file_name, mode='w') as f:\n",
    "            f.write(sequence)\n",
    "        \n",
    "        file_name=i[1:]\n",
    "        file_name=file_name[:-1]\n",
    "        file_name=file_name+\".txt\"\n",
    "        sequence=\"\"\n",
    "        print(file_name)\n",
    "    else:\n",
    "        cut_seq=i[:-1]\n",
    "        sequence+=cut_seq\n",
    "\n",
    "# ファイルをクローズする\n",
    "test_data.close()"
   ]
  },
  {
   "cell_type": "code",
   "execution_count": 59,
   "metadata": {},
   "outputs": [],
   "source": [
    "test_data = open(\"chr3.txt\", \"r\")\n",
    "sequence=test_data.read()"
   ]
  },
  {
   "cell_type": "code",
   "execution_count": 53,
   "metadata": {},
   "outputs": [
    {
     "name": "stdout",
     "output_type": "stream",
     "text": [
      "chr1.txt\n",
      "NNNNNNNNNNNNNNNNNNNNNNNNNNNNNNNNNNNNNNNNNNNNNNNNNN 159138663\n",
      "NNNNNNNNNNNNNNNNNNNNNNNNNNNNNNNNNNNNNNNNNNNNNNNNNN 159138663\n",
      "chr2.txt\n",
      "NNNNNNNNNNNNNNNNNNNNNNNNNNNNNNNNNNNNNNNNNNNNNNNNNN 159138663\n",
      "NNNNNNNNNNNNNNNNNNNNNNNNNNNNNNNNNNNNNNNNNNNNNNNNNN 159138663\n",
      "chr3.txt\n",
      "NNNNNNNNNNNNNNNNNNNNNNNNNNNNNNNNNNNNNNNNNNNNNNNNNN 159138663\n",
      "NNNNNNNNNNNNNNNNNNNNNNNNNNNNNNNNNNNNNNNNNNNNNNNNNN 159138663\n",
      "chr4.txt\n",
      "NNNNNNNNNNNNNNNNNNNNNNNNNNNNNNNNNNNNNNNNNNNNNNNNNN 159138663\n"
     ]
    },
    {
     "ename": "KeyboardInterrupt",
     "evalue": "",
     "output_type": "error",
     "traceback": [
      "\u001b[0;31m---------------------------------------------------------------------------\u001b[0m",
      "\u001b[0;31mKeyboardInterrupt\u001b[0m                         Traceback (most recent call last)",
      "\u001b[0;32m<ipython-input-53-339f3db6a1c5>\u001b[0m in \u001b[0;36m<module>\u001b[0;34m\u001b[0m\n\u001b[1;32m      5\u001b[0m     \u001b[0mseqence\u001b[0m\u001b[0;34m=\u001b[0m\u001b[0mopen\u001b[0m\u001b[0;34m(\u001b[0m\u001b[0;34m\"/Users/miyakesho/Google_Drive/master/research/txt/{}\"\u001b[0m\u001b[0;34m.\u001b[0m\u001b[0mformat\u001b[0m\u001b[0;34m(\u001b[0m\u001b[0mname\u001b[0m\u001b[0;34m)\u001b[0m\u001b[0;34m,\u001b[0m \u001b[0;34m\"r\"\u001b[0m\u001b[0;34m)\u001b[0m\u001b[0;34m\u001b[0m\u001b[0;34m\u001b[0m\u001b[0m\n\u001b[1;32m      6\u001b[0m     \u001b[0mprint\u001b[0m\u001b[0;34m(\u001b[0m\u001b[0msequence\u001b[0m\u001b[0;34m[\u001b[0m\u001b[0;34m:\u001b[0m\u001b[0;36m50\u001b[0m\u001b[0;34m]\u001b[0m\u001b[0;34m,\u001b[0m\u001b[0mlen\u001b[0m\u001b[0;34m(\u001b[0m\u001b[0msequence\u001b[0m\u001b[0;34m)\u001b[0m\u001b[0;34m)\u001b[0m\u001b[0;34m\u001b[0m\u001b[0;34m\u001b[0m\u001b[0m\n\u001b[0;32m----> 7\u001b[0;31m     \u001b[0mnew_seq\u001b[0m\u001b[0;34m=\u001b[0m\u001b[0mbigletter\u001b[0m\u001b[0;34m(\u001b[0m\u001b[0msequence\u001b[0m\u001b[0;34m)\u001b[0m\u001b[0;34m\u001b[0m\u001b[0;34m\u001b[0m\u001b[0m\n\u001b[0m\u001b[1;32m      8\u001b[0m     \u001b[0mprint\u001b[0m\u001b[0;34m(\u001b[0m\u001b[0mnew_seq\u001b[0m\u001b[0;34m[\u001b[0m\u001b[0;34m:\u001b[0m\u001b[0;36m50\u001b[0m\u001b[0;34m]\u001b[0m\u001b[0;34m,\u001b[0m\u001b[0mlen\u001b[0m\u001b[0;34m(\u001b[0m\u001b[0mnew_seq\u001b[0m\u001b[0;34m)\u001b[0m\u001b[0;34m)\u001b[0m\u001b[0;34m\u001b[0m\u001b[0;34m\u001b[0m\u001b[0m\n\u001b[1;32m      9\u001b[0m     \u001b[0;32mwith\u001b[0m \u001b[0mopen\u001b[0m\u001b[0;34m(\u001b[0m\u001b[0;34m\"BigLetter_{}\"\u001b[0m\u001b[0;34m.\u001b[0m\u001b[0mformat\u001b[0m\u001b[0;34m(\u001b[0m\u001b[0mname\u001b[0m\u001b[0;34m)\u001b[0m\u001b[0;34m,\u001b[0m \u001b[0mmode\u001b[0m\u001b[0;34m=\u001b[0m\u001b[0;34m'w'\u001b[0m\u001b[0;34m)\u001b[0m \u001b[0;32mas\u001b[0m \u001b[0mf\u001b[0m\u001b[0;34m:\u001b[0m\u001b[0;34m\u001b[0m\u001b[0;34m\u001b[0m\u001b[0m\n",
      "\u001b[0;32m<ipython-input-46-dcce593bcfc7>\u001b[0m in \u001b[0;36mbigletter\u001b[0;34m(seq)\u001b[0m\n\u001b[1;32m      5\u001b[0m             \u001b[0mnew_seq\u001b[0m\u001b[0;34m+=\u001b[0m\u001b[0;34m\"A\"\u001b[0m\u001b[0;34m\u001b[0m\u001b[0;34m\u001b[0m\u001b[0m\n\u001b[1;32m      6\u001b[0m         \u001b[0;32melif\u001b[0m\u001b[0;34m(\u001b[0m\u001b[0mi\u001b[0m\u001b[0;34m==\u001b[0m\u001b[0;34m\"g\"\u001b[0m\u001b[0;34m)\u001b[0m\u001b[0;34m:\u001b[0m\u001b[0;34m\u001b[0m\u001b[0;34m\u001b[0m\u001b[0m\n\u001b[0;32m----> 7\u001b[0;31m             \u001b[0mnew_seq\u001b[0m\u001b[0;34m+=\u001b[0m\u001b[0;34m\"G\"\u001b[0m\u001b[0;34m\u001b[0m\u001b[0;34m\u001b[0m\u001b[0m\n\u001b[0m\u001b[1;32m      8\u001b[0m         \u001b[0;32melif\u001b[0m\u001b[0;34m(\u001b[0m\u001b[0mi\u001b[0m\u001b[0;34m==\u001b[0m\u001b[0;34m\"c\"\u001b[0m\u001b[0;34m)\u001b[0m\u001b[0;34m:\u001b[0m\u001b[0;34m\u001b[0m\u001b[0;34m\u001b[0m\u001b[0m\n\u001b[1;32m      9\u001b[0m             \u001b[0mnew_seq\u001b[0m\u001b[0;34m+=\u001b[0m\u001b[0;34m\"C\"\u001b[0m\u001b[0;34m\u001b[0m\u001b[0;34m\u001b[0m\u001b[0m\n",
      "\u001b[0;31mKeyboardInterrupt\u001b[0m: "
     ]
    }
   ],
   "source": []
  },
  {
   "cell_type": "code",
   "execution_count": 57,
   "metadata": {},
   "outputs": [
    {
     "name": "stdout",
     "output_type": "stream",
     "text": [
      "AGAAATATAATTCAAGGAAGACCGCTGCCTGCTGATCTGAG\n",
      "CTCAGATCAGCAGGCAGCGGTCTTCCTTGAATTATATTTCT\n"
     ]
    }
   ],
   "source": [
    "targetseq=convert(sequence[99998547:99998588])\n",
    "print(sequence[99998547:99998588])\n",
    "print(targetseq)"
   ]
  },
  {
   "cell_type": "code",
   "execution_count": 58,
   "metadata": {},
   "outputs": [
    {
     "ename": "NameError",
     "evalue": "name 'CAATGGACAGCCCTCTCAAGACTGAATGGTGAGGCCAGGTA' is not defined",
     "output_type": "error",
     "traceback": [
      "\u001b[0;31m---------------------------------------------------------------------------\u001b[0m",
      "\u001b[0;31mNameError\u001b[0m                                 Traceback (most recent call last)",
      "\u001b[0;32m<ipython-input-58-7063419bdc02>\u001b[0m in \u001b[0;36m<module>\u001b[0;34m\u001b[0m\n\u001b[0;32m----> 1\u001b[0;31m \u001b[0mCAATGGACAGCCCTCTCAAGACTGAATGGTGAGGCCAGGTA\u001b[0m\u001b[0;34m\u001b[0m\u001b[0;34m\u001b[0m\u001b[0m\n\u001b[0m",
      "\u001b[0;31mNameError\u001b[0m: name 'CAATGGACAGCCCTCTCAAGACTGAATGGTGAGGCCAGGTA' is not defined"
     ]
    }
   ],
   "source": [
    "CAATGGACAGCCCTCTCAAGACTGAATGGTGAGGCCAGGTA"
   ]
  },
  {
   "cell_type": "code",
   "execution_count": 46,
   "metadata": {},
   "outputs": [],
   "source": [
    "def bigletter(seq):\n",
    "    new_seq=\"\"\n",
    "    for i in seq:\n",
    "        if(i==\"a\"):\n",
    "            new_seq+=\"A\"\n",
    "        elif(i==\"g\"):\n",
    "            new_seq+=\"G\"\n",
    "        elif(i==\"c\"):\n",
    "            new_seq+=\"C\"\n",
    "        elif(i==\"t\"):\n",
    "            new_seq+=\"T\"\n",
    "        else:\n",
    "            new_seq+=i\n",
    "    return new_seq"
   ]
  },
  {
   "cell_type": "code",
   "execution_count": 61,
   "metadata": {},
   "outputs": [
    {
     "data": {
      "text/plain": [
       "'UUAAUGCUAAUCGUGAUAGGGGUU'"
      ]
     },
     "execution_count": 61,
     "metadata": {},
     "output_type": "execute_result"
    }
   ],
   "source": [
    "\"uuaaugcuaaucgugauagggguu\".upper()"
   ]
  },
  {
   "cell_type": "code",
   "execution_count": 67,
   "metadata": {},
   "outputs": [
    {
     "data": {
      "text/plain": [
       "1"
      ]
     },
     "execution_count": 67,
     "metadata": {},
     "output_type": "execute_result"
    }
   ],
   "source": []
  },
  {
   "cell_type": "code",
   "execution_count": null,
   "metadata": {},
   "outputs": [],
   "source": []
  }
 ],
 "metadata": {
  "kernelspec": {
   "display_name": "Python 3",
   "language": "python",
   "name": "python3"
  },
  "language_info": {
   "codemirror_mode": {
    "name": "ipython",
    "version": 3
   },
   "file_extension": ".py",
   "mimetype": "text/x-python",
   "name": "python",
   "nbconvert_exporter": "python",
   "pygments_lexer": "ipython3",
   "version": "3.7.1"
  }
 },
 "nbformat": 4,
 "nbformat_minor": 2
}
